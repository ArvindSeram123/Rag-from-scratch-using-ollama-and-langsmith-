{
 "cells": [
  {
   "cell_type": "code",
   "execution_count": 1,
   "id": "495c268b-facb-42be-a1c8-5032f34ac6e5",
   "metadata": {},
   "outputs": [
    {
     "name": "stdout",
     "output_type": "stream",
     "text": [
      "Requirement already satisfied: langchain_community in c:\\users\\user\\miniconda3\\envs\\proj\\lib\\site-packages (0.3.30)\n",
      "Requirement already satisfied: langchain in c:\\users\\user\\miniconda3\\envs\\proj\\lib\\site-packages (0.3.27)\n",
      "Requirement already satisfied: langchain_core in c:\\users\\user\\miniconda3\\envs\\proj\\lib\\site-packages (0.3.77)\n",
      "Requirement already satisfied: langchain_ollama in c:\\users\\user\\miniconda3\\envs\\proj\\lib\\site-packages (0.2.1)\n",
      "Requirement already satisfied: SQLAlchemy<3.0.0,>=1.4.0 in c:\\users\\user\\miniconda3\\envs\\proj\\lib\\site-packages (from langchain_community) (2.0.12)\n",
      "Requirement already satisfied: requests<3.0.0,>=2.32.5 in c:\\users\\user\\miniconda3\\envs\\proj\\lib\\site-packages (from langchain_community) (2.32.5)\n",
      "Requirement already satisfied: PyYAML<7.0.0,>=5.3.0 in c:\\users\\user\\miniconda3\\envs\\proj\\lib\\site-packages (from langchain_community) (6.0.2)\n",
      "Requirement already satisfied: aiohttp<4.0.0,>=3.8.3 in c:\\users\\user\\miniconda3\\envs\\proj\\lib\\site-packages (from langchain_community) (3.12.13)\n",
      "Requirement already satisfied: tenacity!=8.4.0,<10.0.0,>=8.1.0 in c:\\users\\user\\miniconda3\\envs\\proj\\lib\\site-packages (from langchain_community) (8.5.0)\n",
      "Requirement already satisfied: dataclasses-json<0.7.0,>=0.6.7 in c:\\users\\user\\miniconda3\\envs\\proj\\lib\\site-packages (from langchain_community) (0.6.7)\n",
      "Requirement already satisfied: pydantic-settings<3.0.0,>=2.10.1 in c:\\users\\user\\miniconda3\\envs\\proj\\lib\\site-packages (from langchain_community) (2.10.1)\n",
      "Requirement already satisfied: langsmith<1.0.0,>=0.1.125 in c:\\users\\user\\miniconda3\\envs\\proj\\lib\\site-packages (from langchain_community) (0.4.32)\n",
      "Requirement already satisfied: httpx-sse<1.0.0,>=0.4.0 in c:\\users\\user\\miniconda3\\envs\\proj\\lib\\site-packages (from langchain_community) (0.4.0)\n",
      "Requirement already satisfied: numpy>=1.26.2 in c:\\users\\user\\miniconda3\\envs\\proj\\lib\\site-packages (from langchain_community) (1.26.4)\n",
      "Requirement already satisfied: langchain-text-splitters<1.0.0,>=0.3.9 in c:\\users\\user\\miniconda3\\envs\\proj\\lib\\site-packages (from langchain) (0.3.11)\n",
      "Requirement already satisfied: pydantic<3.0.0,>=2.7.4 in c:\\users\\user\\miniconda3\\envs\\proj\\lib\\site-packages (from langchain) (2.10.6)\n",
      "Requirement already satisfied: async-timeout<5.0.0,>=4.0.0 in c:\\users\\user\\miniconda3\\envs\\proj\\lib\\site-packages (from langchain) (4.0.3)\n",
      "Requirement already satisfied: jsonpatch<2.0.0,>=1.33.0 in c:\\users\\user\\miniconda3\\envs\\proj\\lib\\site-packages (from langchain_core) (1.33)\n",
      "Requirement already satisfied: typing-extensions<5.0.0,>=4.7.0 in c:\\users\\user\\miniconda3\\envs\\proj\\lib\\site-packages (from langchain_core) (4.12.2)\n",
      "Requirement already satisfied: packaging<26.0.0,>=23.2.0 in c:\\users\\user\\miniconda3\\envs\\proj\\lib\\site-packages (from langchain_core) (24.2)\n",
      "Requirement already satisfied: aiohappyeyeballs>=2.5.0 in c:\\users\\user\\miniconda3\\envs\\proj\\lib\\site-packages (from aiohttp<4.0.0,>=3.8.3->langchain_community) (2.6.1)\n",
      "Requirement already satisfied: aiosignal>=1.1.2 in c:\\users\\user\\miniconda3\\envs\\proj\\lib\\site-packages (from aiohttp<4.0.0,>=3.8.3->langchain_community) (1.3.2)\n",
      "Requirement already satisfied: attrs>=17.3.0 in c:\\users\\user\\miniconda3\\envs\\proj\\lib\\site-packages (from aiohttp<4.0.0,>=3.8.3->langchain_community) (24.3.0)\n",
      "Requirement already satisfied: frozenlist>=1.1.1 in c:\\users\\user\\miniconda3\\envs\\proj\\lib\\site-packages (from aiohttp<4.0.0,>=3.8.3->langchain_community) (1.3.3)\n",
      "Requirement already satisfied: multidict<7.0,>=4.5 in c:\\users\\user\\miniconda3\\envs\\proj\\lib\\site-packages (from aiohttp<4.0.0,>=3.8.3->langchain_community) (6.0.4)\n",
      "Requirement already satisfied: propcache>=0.2.0 in c:\\users\\user\\miniconda3\\envs\\proj\\lib\\site-packages (from aiohttp<4.0.0,>=3.8.3->langchain_community) (0.3.1)\n",
      "Requirement already satisfied: yarl<2.0,>=1.17.0 in c:\\users\\user\\miniconda3\\envs\\proj\\lib\\site-packages (from aiohttp<4.0.0,>=3.8.3->langchain_community) (1.20.1)\n",
      "Requirement already satisfied: marshmallow<4.0.0,>=3.18.0 in c:\\users\\user\\miniconda3\\envs\\proj\\lib\\site-packages (from dataclasses-json<0.7.0,>=0.6.7->langchain_community) (3.26.1)\n",
      "Requirement already satisfied: typing-inspect<1,>=0.4.0 in c:\\users\\user\\miniconda3\\envs\\proj\\lib\\site-packages (from dataclasses-json<0.7.0,>=0.6.7->langchain_community) (0.9.0)\n",
      "Requirement already satisfied: jsonpointer>=1.9 in c:\\users\\user\\miniconda3\\envs\\proj\\lib\\site-packages (from jsonpatch<2.0.0,>=1.33.0->langchain_core) (3.0.0)\n",
      "Requirement already satisfied: httpx<1,>=0.23.0 in c:\\users\\user\\miniconda3\\envs\\proj\\lib\\site-packages (from langsmith<1.0.0,>=0.1.125->langchain_community) (0.27.0)\n",
      "Requirement already satisfied: orjson>=3.9.14 in c:\\users\\user\\miniconda3\\envs\\proj\\lib\\site-packages (from langsmith<1.0.0,>=0.1.125->langchain_community) (3.10.11)\n",
      "Requirement already satisfied: requests-toolbelt>=1.0.0 in c:\\users\\user\\miniconda3\\envs\\proj\\lib\\site-packages (from langsmith<1.0.0,>=0.1.125->langchain_community) (1.0.0)\n",
      "Requirement already satisfied: zstandard>=0.23.0 in c:\\users\\user\\miniconda3\\envs\\proj\\lib\\site-packages (from langsmith<1.0.0,>=0.1.125->langchain_community) (0.23.0)\n",
      "Requirement already satisfied: anyio in c:\\users\\user\\miniconda3\\envs\\proj\\lib\\site-packages (from httpx<1,>=0.23.0->langsmith<1.0.0,>=0.1.125->langchain_community) (4.7.0)\n",
      "Requirement already satisfied: certifi in c:\\users\\user\\miniconda3\\envs\\proj\\lib\\site-packages (from httpx<1,>=0.23.0->langsmith<1.0.0,>=0.1.125->langchain_community) (2024.8.30)\n",
      "Requirement already satisfied: httpcore==1.* in c:\\users\\user\\miniconda3\\envs\\proj\\lib\\site-packages (from httpx<1,>=0.23.0->langsmith<1.0.0,>=0.1.125->langchain_community) (1.0.9)\n",
      "Requirement already satisfied: idna in c:\\users\\user\\miniconda3\\envs\\proj\\lib\\site-packages (from httpx<1,>=0.23.0->langsmith<1.0.0,>=0.1.125->langchain_community) (3.7)\n",
      "Requirement already satisfied: sniffio in c:\\users\\user\\miniconda3\\envs\\proj\\lib\\site-packages (from httpx<1,>=0.23.0->langsmith<1.0.0,>=0.1.125->langchain_community) (1.3.0)\n",
      "Requirement already satisfied: h11>=0.16 in c:\\users\\user\\miniconda3\\envs\\proj\\lib\\site-packages (from httpcore==1.*->httpx<1,>=0.23.0->langsmith<1.0.0,>=0.1.125->langchain_community) (0.16.0)\n",
      "Requirement already satisfied: annotated-types>=0.6.0 in c:\\users\\user\\miniconda3\\envs\\proj\\lib\\site-packages (from pydantic<3.0.0,>=2.7.4->langchain) (0.7.0)\n",
      "Requirement already satisfied: pydantic-core==2.27.2 in c:\\users\\user\\miniconda3\\envs\\proj\\lib\\site-packages (from pydantic<3.0.0,>=2.7.4->langchain) (2.27.2)\n",
      "Requirement already satisfied: python-dotenv>=0.21.0 in c:\\users\\user\\miniconda3\\envs\\proj\\lib\\site-packages (from pydantic-settings<3.0.0,>=2.10.1->langchain_community) (1.1.1)\n",
      "Requirement already satisfied: typing-inspection>=0.4.0 in c:\\users\\user\\miniconda3\\envs\\proj\\lib\\site-packages (from pydantic-settings<3.0.0,>=2.10.1->langchain_community) (0.4.1)\n",
      "Requirement already satisfied: charset_normalizer<4,>=2 in c:\\users\\user\\miniconda3\\envs\\proj\\lib\\site-packages (from requests<3.0.0,>=2.32.5->langchain_community) (3.3.2)\n",
      "Requirement already satisfied: urllib3<3,>=1.21.1 in c:\\users\\user\\miniconda3\\envs\\proj\\lib\\site-packages (from requests<3.0.0,>=2.32.5->langchain_community) (2.5.0)\n",
      "Requirement already satisfied: greenlet!=0.4.17 in c:\\users\\user\\miniconda3\\envs\\proj\\lib\\site-packages (from SQLAlchemy<3.0.0,>=1.4.0->langchain_community) (2.0.2)\n",
      "Requirement already satisfied: mypy_extensions>=0.3.0 in c:\\users\\user\\miniconda3\\envs\\proj\\lib\\site-packages (from typing-inspect<1,>=0.4.0->dataclasses-json<0.7.0,>=0.6.7->langchain_community) (1.1.0)\n",
      "Requirement already satisfied: ollama<1,>=0.3.0 in c:\\users\\user\\miniconda3\\envs\\proj\\lib\\site-packages (from langchain_ollama) (0.5.4)\n",
      "Requirement already satisfied: exceptiongroup>=1.0.2 in c:\\users\\user\\miniconda3\\envs\\proj\\lib\\site-packages (from anyio->httpx<1,>=0.23.0->langsmith<1.0.0,>=0.1.125->langchain_community) (1.2.0)\n",
      "Note: you may need to restart the kernel to use updated packages.\n"
     ]
    }
   ],
   "source": [
    "pip install langchain_community langchain langchain_core langchain_ollama"
   ]
  },
  {
   "cell_type": "code",
   "execution_count": 25,
   "id": "be76e414-2afd-40c3-82b0-7ce5ef3d097a",
   "metadata": {},
   "outputs": [
    {
     "name": "stdout",
     "output_type": "stream",
     "text": [
      "OPENAI_API_KEY ✅\n",
      "LANGSMITH_API_KEY ✅\n"
     ]
    }
   ],
   "source": [
    "import os\n",
    "from dotenv import load_dotenv\n",
    "\n",
    "load_dotenv(dotenv_path=\".env\", override=True)\n",
    "\n",
    "# Verify\n",
    "for var in [\"OPENAI_API_KEY\", \"LANGSMITH_API_KEY\"]:\n",
    "    print(var, \"✅\" if os.getenv(var) else \"❌ missing\")"
   ]
  },
  {
   "cell_type": "code",
   "execution_count": 26,
   "id": "53225955-e4ca-44ac-a872-d56e8c59ace9",
   "metadata": {},
   "outputs": [],
   "source": [
    "from langchain_ollama import ChatOllama\n",
    "from langchain_community.vectorstores import Chroma\n",
    "from langchain_community.embeddings import SentenceTransformerEmbeddings\n",
    "from langchain.text_splitter import RecursiveCharacterTextSplitter\n",
    "from langchain_core.prompts import ChatPromptTemplate\n",
    "from langchain_core.output_parsers import StrOutputParser\n",
    "from langchain_core.documents import Document\n"
   ]
  },
  {
   "cell_type": "code",
   "execution_count": 27,
   "id": "4237f889-6866-42fe-a791-a8f4b8b41217",
   "metadata": {},
   "outputs": [],
   "source": [
    "speech = \"\"\"Even though you are only a very small speck of ocean...\n",
    "(put your full text here)\n",
    "\"\"\"\n",
    "docs = [Document(page_content=speech)]\n"
   ]
  },
  {
   "cell_type": "code",
   "execution_count": 28,
   "id": "b06c64d6-2f99-445c-9254-f634f76a00f8",
   "metadata": {},
   "outputs": [],
   "source": [
    "splitter = RecursiveCharacterTextSplitter(chunk_size=500, chunk_overlap=50)\n",
    "chunks = splitter.split_documents(docs)"
   ]
  },
  {
   "cell_type": "code",
   "execution_count": 29,
   "id": "fcba985c-2f0e-42d0-8f4f-e87e3e119dd4",
   "metadata": {},
   "outputs": [],
   "source": [
    "embedding = SentenceTransformerEmbeddings(model_name=\"all-MiniLM-L6-v2\")\n",
    "vectorstore = Chroma.from_documents(chunks, embedding)\n",
    "retriever = vectorstore.as_retriever()\n"
   ]
  },
  {
   "cell_type": "code",
   "execution_count": 30,
   "id": "8ed4f4ca-ef78-4d48-9e71-2ef62bd91398",
   "metadata": {},
   "outputs": [],
   "source": [
    "prompt = ChatPromptTemplate.from_messages([\n",
    "    (\"system\", \"You are a helpful assistant. Answer based only on the context.\"),\n",
    "    (\"user\", \"Question: {question}\\nContext: {context}\")\n",
    "])\n",
    "\n",
    "model = ChatOllama(model=\"gpt-oss:120b-cloud\")   # local LLM\n",
    "parser = StrOutputParser()\n",
    "chain = prompt | model | parser"
   ]
  },
  {
   "cell_type": "code",
   "execution_count": 33,
   "id": "864ffc3b-cb53-449e-a7be-875af88097e6",
   "metadata": {},
   "outputs": [
    {
     "name": "stdout",
     "output_type": "stream",
     "text": [
      "I’d be happy to pull out the key messages for you, but I’ll need the full text of the speech. Could you please provide the complete speech (or the portion you’d like summarized)? Once I have it, I can identify the main points and themes for you.\n"
     ]
    }
   ],
   "source": [
    "# Direct LLM call without retrieval\n",
    "question = \"What are the key messages of the speech?\"\n",
    "\n",
    "context = \"\"\"Even though you are only a very small speck of ocean...\n",
    "(put full speech here)\"\"\"\n",
    "\n",
    "print(chain.invoke({\"question\": question, \"context\": context}))\n"
   ]
  },
  {
   "cell_type": "code",
   "execution_count": 34,
   "id": "95e4d8c8-d269-4b8b-8688-f4f41bfca5e1",
   "metadata": {},
   "outputs": [
    {
     "name": "stdout",
     "output_type": "stream",
     "text": [
      "I’m happy to help pull out the key messages, but I’ll need the actual text of the speech to do that. Could you please provide the full content (instead of the placeholder “(put your full text here)”) so I can review it and summarize the main points for you?\n"
     ]
    }
   ],
   "source": [
    "query = \"What are the key messages of the speech?\"\n",
    "docs_context = retriever.get_relevant_documents(query)\n",
    "\n",
    "# Concatenate top chunks as context\n",
    "rag_context = \"\\n\".join([d.page_content for d in docs_context])\n",
    "\n",
    "print(chain.invoke({\"question\": query, \"context\": rag_context}))"
   ]
  }
 ],
 "metadata": {
  "kernelspec": {
   "display_name": "Python 3 (ipykernel)",
   "language": "python",
   "name": "python3"
  },
  "language_info": {
   "codemirror_mode": {
    "name": "ipython",
    "version": 3
   },
   "file_extension": ".py",
   "mimetype": "text/x-python",
   "name": "python",
   "nbconvert_exporter": "python",
   "pygments_lexer": "ipython3",
   "version": "3.10.16"
  }
 },
 "nbformat": 4,
 "nbformat_minor": 5
}
